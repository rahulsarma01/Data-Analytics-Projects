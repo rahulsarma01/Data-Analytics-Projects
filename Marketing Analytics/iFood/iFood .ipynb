{
  "nbformat": 4,
  "nbformat_minor": 0,
  "metadata": {
    "colab": {
      "provenance": []
    },
    "kernelspec": {
      "name": "python3",
      "display_name": "Python 3"
    },
    "language_info": {
      "name": "python"
    }
  },
  "cells": [
    {
      "cell_type": "markdown",
      "source": [
        "Author: **Rahul Sarma**\n",
        "\n",
        "Last Updated: 25.03.2023"
      ],
      "metadata": {
        "id": "-PWsyAoCHEnd"
      }
    },
    {
      "cell_type": "markdown",
      "source": [
        "**Preparing the Environment**"
      ],
      "metadata": {
        "id": "sS5DyrY1Ksg0"
      }
    },
    {
      "cell_type": "code",
      "source": [
        "# Import libraries\n",
        "\n",
        "import pandas as pd\n",
        "import numpy as np\n",
        "import matplotlib.pyplot as plt\n",
        "import seaborn as sns\n",
        "from pprint import pprint\n",
        "print(\"import complete\")"
      ],
      "metadata": {
        "colab": {
          "base_uri": "https://localhost:8080/"
        },
        "id": "SuJiOA3UHRWE",
        "outputId": "f0350b1c-afd2-407f-c32f-18039eaf27e4"
      },
      "execution_count": 21,
      "outputs": [
        {
          "output_type": "stream",
          "name": "stdout",
          "text": [
            "import complete\n"
          ]
        }
      ]
    },
    {
      "cell_type": "code",
      "source": [
        "# import the data\n",
        "\n",
        "food=pd.read_csv(\"/content/ifood_df.csv\")\n",
        "print(\"import complete\")"
      ],
      "metadata": {
        "colab": {
          "base_uri": "https://localhost:8080/"
        },
        "id": "kLVmcACEHckl",
        "outputId": "4546c66b-c575-4f61-9d09-ce2068c78960"
      },
      "execution_count": 2,
      "outputs": [
        {
          "output_type": "stream",
          "name": "stdout",
          "text": [
            "import complete\n"
          ]
        }
      ]
    },
    {
      "cell_type": "markdown",
      "source": [
        "**Assess Data** \n",
        "\n",
        "In this step, we view the dataset and get basic information."
      ],
      "metadata": {
        "id": "ApoThIOqJqIO"
      }
    },
    {
      "cell_type": "code",
      "source": [
        "# view first 5 rows\n",
        "\n",
        "food.head()"
      ],
      "metadata": {
        "id": "SyWFbak3J3-k",
        "outputId": "25765061-e8ee-423c-b574-30e936a6cafc",
        "colab": {
          "base_uri": "https://localhost:8080/",
          "height": 317
        }
      },
      "execution_count": 3,
      "outputs": [
        {
          "output_type": "execute_result",
          "data": {
            "text/plain": [
              "    Income  Kidhome  Teenhome  Recency  MntWines  MntFruits  MntMeatProducts  \\\n",
              "0  58138.0        0         0       58       635         88              546   \n",
              "1  46344.0        1         1       38        11          1                6   \n",
              "2  71613.0        0         0       26       426         49              127   \n",
              "3  26646.0        1         0       26        11          4               20   \n",
              "4  58293.0        1         0       94       173         43              118   \n",
              "\n",
              "   MntFishProducts  MntSweetProducts  MntGoldProds  ...  marital_Together  \\\n",
              "0              172                88            88  ...                 0   \n",
              "1                2                 1             6  ...                 0   \n",
              "2              111                21            42  ...                 1   \n",
              "3               10                 3             5  ...                 1   \n",
              "4               46                27            15  ...                 0   \n",
              "\n",
              "   marital_Widow  education_2n Cycle  education_Basic  education_Graduation  \\\n",
              "0              0                   0                0                     1   \n",
              "1              0                   0                0                     1   \n",
              "2              0                   0                0                     1   \n",
              "3              0                   0                0                     1   \n",
              "4              0                   0                0                     0   \n",
              "\n",
              "   education_Master  education_PhD  MntTotal  MntRegularProds  \\\n",
              "0                 0              0      1529             1441   \n",
              "1                 0              0        21               15   \n",
              "2                 0              0       734              692   \n",
              "3                 0              0        48               43   \n",
              "4                 0              1       407              392   \n",
              "\n",
              "   AcceptedCmpOverall  \n",
              "0                   0  \n",
              "1                   0  \n",
              "2                   0  \n",
              "3                   0  \n",
              "4                   0  \n",
              "\n",
              "[5 rows x 39 columns]"
            ],
            "text/html": [
              "\n",
              "  <div id=\"df-04970ba2-5721-4045-a8e5-013cfaf4f687\">\n",
              "    <div class=\"colab-df-container\">\n",
              "      <div>\n",
              "<style scoped>\n",
              "    .dataframe tbody tr th:only-of-type {\n",
              "        vertical-align: middle;\n",
              "    }\n",
              "\n",
              "    .dataframe tbody tr th {\n",
              "        vertical-align: top;\n",
              "    }\n",
              "\n",
              "    .dataframe thead th {\n",
              "        text-align: right;\n",
              "    }\n",
              "</style>\n",
              "<table border=\"1\" class=\"dataframe\">\n",
              "  <thead>\n",
              "    <tr style=\"text-align: right;\">\n",
              "      <th></th>\n",
              "      <th>Income</th>\n",
              "      <th>Kidhome</th>\n",
              "      <th>Teenhome</th>\n",
              "      <th>Recency</th>\n",
              "      <th>MntWines</th>\n",
              "      <th>MntFruits</th>\n",
              "      <th>MntMeatProducts</th>\n",
              "      <th>MntFishProducts</th>\n",
              "      <th>MntSweetProducts</th>\n",
              "      <th>MntGoldProds</th>\n",
              "      <th>...</th>\n",
              "      <th>marital_Together</th>\n",
              "      <th>marital_Widow</th>\n",
              "      <th>education_2n Cycle</th>\n",
              "      <th>education_Basic</th>\n",
              "      <th>education_Graduation</th>\n",
              "      <th>education_Master</th>\n",
              "      <th>education_PhD</th>\n",
              "      <th>MntTotal</th>\n",
              "      <th>MntRegularProds</th>\n",
              "      <th>AcceptedCmpOverall</th>\n",
              "    </tr>\n",
              "  </thead>\n",
              "  <tbody>\n",
              "    <tr>\n",
              "      <th>0</th>\n",
              "      <td>58138.0</td>\n",
              "      <td>0</td>\n",
              "      <td>0</td>\n",
              "      <td>58</td>\n",
              "      <td>635</td>\n",
              "      <td>88</td>\n",
              "      <td>546</td>\n",
              "      <td>172</td>\n",
              "      <td>88</td>\n",
              "      <td>88</td>\n",
              "      <td>...</td>\n",
              "      <td>0</td>\n",
              "      <td>0</td>\n",
              "      <td>0</td>\n",
              "      <td>0</td>\n",
              "      <td>1</td>\n",
              "      <td>0</td>\n",
              "      <td>0</td>\n",
              "      <td>1529</td>\n",
              "      <td>1441</td>\n",
              "      <td>0</td>\n",
              "    </tr>\n",
              "    <tr>\n",
              "      <th>1</th>\n",
              "      <td>46344.0</td>\n",
              "      <td>1</td>\n",
              "      <td>1</td>\n",
              "      <td>38</td>\n",
              "      <td>11</td>\n",
              "      <td>1</td>\n",
              "      <td>6</td>\n",
              "      <td>2</td>\n",
              "      <td>1</td>\n",
              "      <td>6</td>\n",
              "      <td>...</td>\n",
              "      <td>0</td>\n",
              "      <td>0</td>\n",
              "      <td>0</td>\n",
              "      <td>0</td>\n",
              "      <td>1</td>\n",
              "      <td>0</td>\n",
              "      <td>0</td>\n",
              "      <td>21</td>\n",
              "      <td>15</td>\n",
              "      <td>0</td>\n",
              "    </tr>\n",
              "    <tr>\n",
              "      <th>2</th>\n",
              "      <td>71613.0</td>\n",
              "      <td>0</td>\n",
              "      <td>0</td>\n",
              "      <td>26</td>\n",
              "      <td>426</td>\n",
              "      <td>49</td>\n",
              "      <td>127</td>\n",
              "      <td>111</td>\n",
              "      <td>21</td>\n",
              "      <td>42</td>\n",
              "      <td>...</td>\n",
              "      <td>1</td>\n",
              "      <td>0</td>\n",
              "      <td>0</td>\n",
              "      <td>0</td>\n",
              "      <td>1</td>\n",
              "      <td>0</td>\n",
              "      <td>0</td>\n",
              "      <td>734</td>\n",
              "      <td>692</td>\n",
              "      <td>0</td>\n",
              "    </tr>\n",
              "    <tr>\n",
              "      <th>3</th>\n",
              "      <td>26646.0</td>\n",
              "      <td>1</td>\n",
              "      <td>0</td>\n",
              "      <td>26</td>\n",
              "      <td>11</td>\n",
              "      <td>4</td>\n",
              "      <td>20</td>\n",
              "      <td>10</td>\n",
              "      <td>3</td>\n",
              "      <td>5</td>\n",
              "      <td>...</td>\n",
              "      <td>1</td>\n",
              "      <td>0</td>\n",
              "      <td>0</td>\n",
              "      <td>0</td>\n",
              "      <td>1</td>\n",
              "      <td>0</td>\n",
              "      <td>0</td>\n",
              "      <td>48</td>\n",
              "      <td>43</td>\n",
              "      <td>0</td>\n",
              "    </tr>\n",
              "    <tr>\n",
              "      <th>4</th>\n",
              "      <td>58293.0</td>\n",
              "      <td>1</td>\n",
              "      <td>0</td>\n",
              "      <td>94</td>\n",
              "      <td>173</td>\n",
              "      <td>43</td>\n",
              "      <td>118</td>\n",
              "      <td>46</td>\n",
              "      <td>27</td>\n",
              "      <td>15</td>\n",
              "      <td>...</td>\n",
              "      <td>0</td>\n",
              "      <td>0</td>\n",
              "      <td>0</td>\n",
              "      <td>0</td>\n",
              "      <td>0</td>\n",
              "      <td>0</td>\n",
              "      <td>1</td>\n",
              "      <td>407</td>\n",
              "      <td>392</td>\n",
              "      <td>0</td>\n",
              "    </tr>\n",
              "  </tbody>\n",
              "</table>\n",
              "<p>5 rows × 39 columns</p>\n",
              "</div>\n",
              "      <button class=\"colab-df-convert\" onclick=\"convertToInteractive('df-04970ba2-5721-4045-a8e5-013cfaf4f687')\"\n",
              "              title=\"Convert this dataframe to an interactive table.\"\n",
              "              style=\"display:none;\">\n",
              "        \n",
              "  <svg xmlns=\"http://www.w3.org/2000/svg\" height=\"24px\"viewBox=\"0 0 24 24\"\n",
              "       width=\"24px\">\n",
              "    <path d=\"M0 0h24v24H0V0z\" fill=\"none\"/>\n",
              "    <path d=\"M18.56 5.44l.94 2.06.94-2.06 2.06-.94-2.06-.94-.94-2.06-.94 2.06-2.06.94zm-11 1L8.5 8.5l.94-2.06 2.06-.94-2.06-.94L8.5 2.5l-.94 2.06-2.06.94zm10 10l.94 2.06.94-2.06 2.06-.94-2.06-.94-.94-2.06-.94 2.06-2.06.94z\"/><path d=\"M17.41 7.96l-1.37-1.37c-.4-.4-.92-.59-1.43-.59-.52 0-1.04.2-1.43.59L10.3 9.45l-7.72 7.72c-.78.78-.78 2.05 0 2.83L4 21.41c.39.39.9.59 1.41.59.51 0 1.02-.2 1.41-.59l7.78-7.78 2.81-2.81c.8-.78.8-2.07 0-2.86zM5.41 20L4 18.59l7.72-7.72 1.47 1.35L5.41 20z\"/>\n",
              "  </svg>\n",
              "      </button>\n",
              "      \n",
              "  <style>\n",
              "    .colab-df-container {\n",
              "      display:flex;\n",
              "      flex-wrap:wrap;\n",
              "      gap: 12px;\n",
              "    }\n",
              "\n",
              "    .colab-df-convert {\n",
              "      background-color: #E8F0FE;\n",
              "      border: none;\n",
              "      border-radius: 50%;\n",
              "      cursor: pointer;\n",
              "      display: none;\n",
              "      fill: #1967D2;\n",
              "      height: 32px;\n",
              "      padding: 0 0 0 0;\n",
              "      width: 32px;\n",
              "    }\n",
              "\n",
              "    .colab-df-convert:hover {\n",
              "      background-color: #E2EBFA;\n",
              "      box-shadow: 0px 1px 2px rgba(60, 64, 67, 0.3), 0px 1px 3px 1px rgba(60, 64, 67, 0.15);\n",
              "      fill: #174EA6;\n",
              "    }\n",
              "\n",
              "    [theme=dark] .colab-df-convert {\n",
              "      background-color: #3B4455;\n",
              "      fill: #D2E3FC;\n",
              "    }\n",
              "\n",
              "    [theme=dark] .colab-df-convert:hover {\n",
              "      background-color: #434B5C;\n",
              "      box-shadow: 0px 1px 3px 1px rgba(0, 0, 0, 0.15);\n",
              "      filter: drop-shadow(0px 1px 2px rgba(0, 0, 0, 0.3));\n",
              "      fill: #FFFFFF;\n",
              "    }\n",
              "  </style>\n",
              "\n",
              "      <script>\n",
              "        const buttonEl =\n",
              "          document.querySelector('#df-04970ba2-5721-4045-a8e5-013cfaf4f687 button.colab-df-convert');\n",
              "        buttonEl.style.display =\n",
              "          google.colab.kernel.accessAllowed ? 'block' : 'none';\n",
              "\n",
              "        async function convertToInteractive(key) {\n",
              "          const element = document.querySelector('#df-04970ba2-5721-4045-a8e5-013cfaf4f687');\n",
              "          const dataTable =\n",
              "            await google.colab.kernel.invokeFunction('convertToInteractive',\n",
              "                                                     [key], {});\n",
              "          if (!dataTable) return;\n",
              "\n",
              "          const docLinkHtml = 'Like what you see? Visit the ' +\n",
              "            '<a target=\"_blank\" href=https://colab.research.google.com/notebooks/data_table.ipynb>data table notebook</a>'\n",
              "            + ' to learn more about interactive tables.';\n",
              "          element.innerHTML = '';\n",
              "          dataTable['output_type'] = 'display_data';\n",
              "          await google.colab.output.renderOutput(dataTable, element);\n",
              "          const docLink = document.createElement('div');\n",
              "          docLink.innerHTML = docLinkHtml;\n",
              "          element.appendChild(docLink);\n",
              "        }\n",
              "      </script>\n",
              "    </div>\n",
              "  </div>\n",
              "  "
            ]
          },
          "metadata": {},
          "execution_count": 3
        }
      ]
    },
    {
      "cell_type": "code",
      "source": [
        "# Basic information of dataset\n",
        "\n",
        "food.info()"
      ],
      "metadata": {
        "colab": {
          "base_uri": "https://localhost:8080/"
        },
        "id": "QZjGswd9IInF",
        "outputId": "50c8a076-0a8f-4463-9210-ad6e84ab67d5"
      },
      "execution_count": 4,
      "outputs": [
        {
          "output_type": "stream",
          "name": "stdout",
          "text": [
            "<class 'pandas.core.frame.DataFrame'>\n",
            "RangeIndex: 2205 entries, 0 to 2204\n",
            "Data columns (total 39 columns):\n",
            " #   Column                Non-Null Count  Dtype  \n",
            "---  ------                --------------  -----  \n",
            " 0   Income                2205 non-null   float64\n",
            " 1   Kidhome               2205 non-null   int64  \n",
            " 2   Teenhome              2205 non-null   int64  \n",
            " 3   Recency               2205 non-null   int64  \n",
            " 4   MntWines              2205 non-null   int64  \n",
            " 5   MntFruits             2205 non-null   int64  \n",
            " 6   MntMeatProducts       2205 non-null   int64  \n",
            " 7   MntFishProducts       2205 non-null   int64  \n",
            " 8   MntSweetProducts      2205 non-null   int64  \n",
            " 9   MntGoldProds          2205 non-null   int64  \n",
            " 10  NumDealsPurchases     2205 non-null   int64  \n",
            " 11  NumWebPurchases       2205 non-null   int64  \n",
            " 12  NumCatalogPurchases   2205 non-null   int64  \n",
            " 13  NumStorePurchases     2205 non-null   int64  \n",
            " 14  NumWebVisitsMonth     2205 non-null   int64  \n",
            " 15  AcceptedCmp3          2205 non-null   int64  \n",
            " 16  AcceptedCmp4          2205 non-null   int64  \n",
            " 17  AcceptedCmp5          2205 non-null   int64  \n",
            " 18  AcceptedCmp1          2205 non-null   int64  \n",
            " 19  AcceptedCmp2          2205 non-null   int64  \n",
            " 20  Complain              2205 non-null   int64  \n",
            " 21  Z_CostContact         2205 non-null   int64  \n",
            " 22  Z_Revenue             2205 non-null   int64  \n",
            " 23  Response              2205 non-null   int64  \n",
            " 24  Age                   2205 non-null   int64  \n",
            " 25  Customer_Days         2205 non-null   int64  \n",
            " 26  marital_Divorced      2205 non-null   int64  \n",
            " 27  marital_Married       2205 non-null   int64  \n",
            " 28  marital_Single        2205 non-null   int64  \n",
            " 29  marital_Together      2205 non-null   int64  \n",
            " 30  marital_Widow         2205 non-null   int64  \n",
            " 31  education_2n Cycle    2205 non-null   int64  \n",
            " 32  education_Basic       2205 non-null   int64  \n",
            " 33  education_Graduation  2205 non-null   int64  \n",
            " 34  education_Master      2205 non-null   int64  \n",
            " 35  education_PhD         2205 non-null   int64  \n",
            " 36  MntTotal              2205 non-null   int64  \n",
            " 37  MntRegularProds       2205 non-null   int64  \n",
            " 38  AcceptedCmpOverall    2205 non-null   int64  \n",
            "dtypes: float64(1), int64(38)\n",
            "memory usage: 672.0 KB\n"
          ]
        }
      ]
    },
    {
      "cell_type": "markdown",
      "source": [
        " **Handle Duplicates**"
      ],
      "metadata": {
        "id": "da53rluuKOrE"
      }
    },
    {
      "cell_type": "code",
      "source": [
        "# Check for duplicates\n",
        "\n",
        "food.duplicated().sum()"
      ],
      "metadata": {
        "id": "wfRlrK3JKVlk",
        "outputId": "c97168cf-dfb1-4081-a94b-6bb8bede4636",
        "colab": {
          "base_uri": "https://localhost:8080/"
        }
      },
      "execution_count": 5,
      "outputs": [
        {
          "output_type": "execute_result",
          "data": {
            "text/plain": [
              "184"
            ]
          },
          "metadata": {},
          "execution_count": 5
        }
      ]
    },
    {
      "cell_type": "markdown",
      "source": [
        "we drop the duplicate rows."
      ],
      "metadata": {
        "id": "4ZF6uoihKeNs"
      }
    },
    {
      "cell_type": "code",
      "source": [
        "# Drop row and set inplace to True to reflect changes in dataset\n",
        "\n",
        "food.drop_duplicates(inplace=True)"
      ],
      "metadata": {
        "id": "ApprvRzMKl40"
      },
      "execution_count": 6,
      "outputs": []
    },
    {
      "cell_type": "markdown",
      "source": [
        "**Handle Missing Values** \n",
        "\n",
        "Using percentage to find missing values would give a clearer representation of the missing values in the dataset."
      ],
      "metadata": {
        "id": "UPHRdh_aKqa3"
      }
    },
    {
      "cell_type": "code",
      "source": [
        "# Find percentage of null values\n",
        "\n",
        "food.isnull().sum()/len(food)*100"
      ],
      "metadata": {
        "colab": {
          "base_uri": "https://localhost:8080/"
        },
        "id": "_5aCUPWPIglD",
        "outputId": "20e659bf-85cb-4909-df4f-1bf0f6815ed4"
      },
      "execution_count": 7,
      "outputs": [
        {
          "output_type": "execute_result",
          "data": {
            "text/plain": [
              "Income                  0.0\n",
              "Kidhome                 0.0\n",
              "Teenhome                0.0\n",
              "Recency                 0.0\n",
              "MntWines                0.0\n",
              "MntFruits               0.0\n",
              "MntMeatProducts         0.0\n",
              "MntFishProducts         0.0\n",
              "MntSweetProducts        0.0\n",
              "MntGoldProds            0.0\n",
              "NumDealsPurchases       0.0\n",
              "NumWebPurchases         0.0\n",
              "NumCatalogPurchases     0.0\n",
              "NumStorePurchases       0.0\n",
              "NumWebVisitsMonth       0.0\n",
              "AcceptedCmp3            0.0\n",
              "AcceptedCmp4            0.0\n",
              "AcceptedCmp5            0.0\n",
              "AcceptedCmp1            0.0\n",
              "AcceptedCmp2            0.0\n",
              "Complain                0.0\n",
              "Z_CostContact           0.0\n",
              "Z_Revenue               0.0\n",
              "Response                0.0\n",
              "Age                     0.0\n",
              "Customer_Days           0.0\n",
              "marital_Divorced        0.0\n",
              "marital_Married         0.0\n",
              "marital_Single          0.0\n",
              "marital_Together        0.0\n",
              "marital_Widow           0.0\n",
              "education_2n Cycle      0.0\n",
              "education_Basic         0.0\n",
              "education_Graduation    0.0\n",
              "education_Master        0.0\n",
              "education_PhD           0.0\n",
              "MntTotal                0.0\n",
              "MntRegularProds         0.0\n",
              "AcceptedCmpOverall      0.0\n",
              "dtype: float64"
            ]
          },
          "metadata": {},
          "execution_count": 7
        }
      ]
    },
    {
      "cell_type": "markdown",
      "source": [
        "There is no null values in the dataset."
      ],
      "metadata": {
        "id": "W1dC6uJZLwQ1"
      }
    },
    {
      "cell_type": "markdown",
      "source": [
        "**Data Preparation**\n",
        "\n",
        "Merge multiple columns containing marital status information into a single column. It involves converting the columns to strings, replacing the numerical values with categorical values, combining the columns into a new column, and mapping the values to the appropriate categories."
      ],
      "metadata": {
        "id": "wqW2CJLEN_j0"
      }
    },
    {
      "cell_type": "code",
      "source": [
        "# Create a dictionary to map numerical values to categorical values\n",
        "marital_map = {'1': 'Divorced', '2': 'Widow', '3': 'Together', '4': 'Single', '5': 'Married'}\n",
        "\n",
        "# Convert columns to strings and replace numerical values\n",
        "food['marital_Married'] = food['marital_Married'].astype(str).replace({'1': '5', '0': ''})\n",
        "food['marital_Single'] = food['marital_Single'].astype(str).replace({'1': '4', '0': ''})\n",
        "food['marital_Together'] = food['marital_Together'].astype(str).replace({'1': '3', '0': ''})\n",
        "food['marital_Widow'] = food['marital_Widow'].astype(str).replace({'1': '2', '0': ''})\n",
        "food['marital_Divorced'] = food['marital_Divorced'].astype(str).replace({'0': ''})\n",
        "\n",
        "# Combine columns into a new column and map numerical values to categorical values\n",
        "food['marital_status'] = food['marital_Widow'] + food['marital_Together'] + food['marital_Single'] + food['marital_Married'] + food['marital_Divorced']\n",
        "food['marital_status'] = food['marital_status'].map(marital_map)\n"
      ],
      "metadata": {
        "id": "m1kMGSNPLybE"
      },
      "execution_count": 8,
      "outputs": []
    },
    {
      "cell_type": "markdown",
      "source": [
        "Let's do same operation, as above, for education columns."
      ],
      "metadata": {
        "id": "x64cThesPNLC"
      }
    },
    {
      "cell_type": "code",
      "source": [
        "education_map= {'1':'2n Cycle','2':'Basic','3':'Graduation','4':'Master','5':'PhD'}\n",
        "food['education_2n Cycle']= food['education_2n Cycle'].astype(str).replace({'0':''})\n",
        "food['education_Basic']= food['education_Basic'].astype(str).replace({'1':'2','0':''})\n",
        "food['education_Graduation']= food['education_Graduation'].astype(str).replace({'1':'3','0':''})\n",
        "food['education_Master']= food['education_Master'].astype(str).replace({'1':'4','0':''})\n",
        "food['education_PhD']= food['education_PhD'].astype(str).replace({'1':'5','0':''})\n",
        "food['education_level']= food['education_2n Cycle']+ food['education_Basic']+ food['education_Graduation']+ food['education_Master']+ food['education_PhD']\n",
        "food['education_level']= food['education_level'].map(education_map)"
      ],
      "metadata": {
        "id": "LTaCsCLKPNbN"
      },
      "execution_count": 9,
      "outputs": []
    },
    {
      "cell_type": "markdown",
      "source": [
        "**Create Calculated Field**"
      ],
      "metadata": {
        "id": "dJ4is7TsQzAl"
      }
    },
    {
      "cell_type": "code",
      "source": [
        "# join KidHome And TeenHome to find out number of children in a house\n",
        "\n",
        "food['kids']=food['Kidhome']+ food['Teenhome']"
      ],
      "metadata": {
        "id": "CGTIbu12Q8Dc"
      },
      "execution_count": 10,
      "outputs": []
    },
    {
      "cell_type": "markdown",
      "source": [
        "**Drop unnecessary columns**"
      ],
      "metadata": {
        "id": "ZlJADdHjROKM"
      }
    },
    {
      "cell_type": "code",
      "source": [
        "food=food.drop(['education_2n Cycle','education_Basic','education_Graduation','education_Master','education_PhD','marital_Widow','marital_Together','marital_Single','marital_Married','marital_Divorced','Kidhome','Teenhome'], axis=1)\n",
        "food.head(3)"
      ],
      "metadata": {
        "id": "YDGAGHXjRX6o",
        "outputId": "969c0ce7-de7a-40d2-d5ce-aee103e99cf8",
        "colab": {
          "base_uri": "https://localhost:8080/",
          "height": 236
        }
      },
      "execution_count": 11,
      "outputs": [
        {
          "output_type": "execute_result",
          "data": {
            "text/plain": [
              "    Income  Recency  MntWines  MntFruits  MntMeatProducts  MntFishProducts  \\\n",
              "0  58138.0       58       635         88              546              172   \n",
              "1  46344.0       38        11          1                6                2   \n",
              "2  71613.0       26       426         49              127              111   \n",
              "\n",
              "   MntSweetProducts  MntGoldProds  NumDealsPurchases  NumWebPurchases  ...  \\\n",
              "0                88            88                  3                8  ...   \n",
              "1                 1             6                  2                1  ...   \n",
              "2                21            42                  1                8  ...   \n",
              "\n",
              "   Z_Revenue  Response  Age  Customer_Days  MntTotal  MntRegularProds  \\\n",
              "0         11         1   63           2822      1529             1441   \n",
              "1         11         0   66           2272        21               15   \n",
              "2         11         0   55           2471       734              692   \n",
              "\n",
              "   AcceptedCmpOverall  marital_status  education_level  kids  \n",
              "0                   0          Single       Graduation     0  \n",
              "1                   0          Single       Graduation     2  \n",
              "2                   0        Together       Graduation     0  \n",
              "\n",
              "[3 rows x 30 columns]"
            ],
            "text/html": [
              "\n",
              "  <div id=\"df-26160488-3560-4d2d-bc88-0bb9350d326c\">\n",
              "    <div class=\"colab-df-container\">\n",
              "      <div>\n",
              "<style scoped>\n",
              "    .dataframe tbody tr th:only-of-type {\n",
              "        vertical-align: middle;\n",
              "    }\n",
              "\n",
              "    .dataframe tbody tr th {\n",
              "        vertical-align: top;\n",
              "    }\n",
              "\n",
              "    .dataframe thead th {\n",
              "        text-align: right;\n",
              "    }\n",
              "</style>\n",
              "<table border=\"1\" class=\"dataframe\">\n",
              "  <thead>\n",
              "    <tr style=\"text-align: right;\">\n",
              "      <th></th>\n",
              "      <th>Income</th>\n",
              "      <th>Recency</th>\n",
              "      <th>MntWines</th>\n",
              "      <th>MntFruits</th>\n",
              "      <th>MntMeatProducts</th>\n",
              "      <th>MntFishProducts</th>\n",
              "      <th>MntSweetProducts</th>\n",
              "      <th>MntGoldProds</th>\n",
              "      <th>NumDealsPurchases</th>\n",
              "      <th>NumWebPurchases</th>\n",
              "      <th>...</th>\n",
              "      <th>Z_Revenue</th>\n",
              "      <th>Response</th>\n",
              "      <th>Age</th>\n",
              "      <th>Customer_Days</th>\n",
              "      <th>MntTotal</th>\n",
              "      <th>MntRegularProds</th>\n",
              "      <th>AcceptedCmpOverall</th>\n",
              "      <th>marital_status</th>\n",
              "      <th>education_level</th>\n",
              "      <th>kids</th>\n",
              "    </tr>\n",
              "  </thead>\n",
              "  <tbody>\n",
              "    <tr>\n",
              "      <th>0</th>\n",
              "      <td>58138.0</td>\n",
              "      <td>58</td>\n",
              "      <td>635</td>\n",
              "      <td>88</td>\n",
              "      <td>546</td>\n",
              "      <td>172</td>\n",
              "      <td>88</td>\n",
              "      <td>88</td>\n",
              "      <td>3</td>\n",
              "      <td>8</td>\n",
              "      <td>...</td>\n",
              "      <td>11</td>\n",
              "      <td>1</td>\n",
              "      <td>63</td>\n",
              "      <td>2822</td>\n",
              "      <td>1529</td>\n",
              "      <td>1441</td>\n",
              "      <td>0</td>\n",
              "      <td>Single</td>\n",
              "      <td>Graduation</td>\n",
              "      <td>0</td>\n",
              "    </tr>\n",
              "    <tr>\n",
              "      <th>1</th>\n",
              "      <td>46344.0</td>\n",
              "      <td>38</td>\n",
              "      <td>11</td>\n",
              "      <td>1</td>\n",
              "      <td>6</td>\n",
              "      <td>2</td>\n",
              "      <td>1</td>\n",
              "      <td>6</td>\n",
              "      <td>2</td>\n",
              "      <td>1</td>\n",
              "      <td>...</td>\n",
              "      <td>11</td>\n",
              "      <td>0</td>\n",
              "      <td>66</td>\n",
              "      <td>2272</td>\n",
              "      <td>21</td>\n",
              "      <td>15</td>\n",
              "      <td>0</td>\n",
              "      <td>Single</td>\n",
              "      <td>Graduation</td>\n",
              "      <td>2</td>\n",
              "    </tr>\n",
              "    <tr>\n",
              "      <th>2</th>\n",
              "      <td>71613.0</td>\n",
              "      <td>26</td>\n",
              "      <td>426</td>\n",
              "      <td>49</td>\n",
              "      <td>127</td>\n",
              "      <td>111</td>\n",
              "      <td>21</td>\n",
              "      <td>42</td>\n",
              "      <td>1</td>\n",
              "      <td>8</td>\n",
              "      <td>...</td>\n",
              "      <td>11</td>\n",
              "      <td>0</td>\n",
              "      <td>55</td>\n",
              "      <td>2471</td>\n",
              "      <td>734</td>\n",
              "      <td>692</td>\n",
              "      <td>0</td>\n",
              "      <td>Together</td>\n",
              "      <td>Graduation</td>\n",
              "      <td>0</td>\n",
              "    </tr>\n",
              "  </tbody>\n",
              "</table>\n",
              "<p>3 rows × 30 columns</p>\n",
              "</div>\n",
              "      <button class=\"colab-df-convert\" onclick=\"convertToInteractive('df-26160488-3560-4d2d-bc88-0bb9350d326c')\"\n",
              "              title=\"Convert this dataframe to an interactive table.\"\n",
              "              style=\"display:none;\">\n",
              "        \n",
              "  <svg xmlns=\"http://www.w3.org/2000/svg\" height=\"24px\"viewBox=\"0 0 24 24\"\n",
              "       width=\"24px\">\n",
              "    <path d=\"M0 0h24v24H0V0z\" fill=\"none\"/>\n",
              "    <path d=\"M18.56 5.44l.94 2.06.94-2.06 2.06-.94-2.06-.94-.94-2.06-.94 2.06-2.06.94zm-11 1L8.5 8.5l.94-2.06 2.06-.94-2.06-.94L8.5 2.5l-.94 2.06-2.06.94zm10 10l.94 2.06.94-2.06 2.06-.94-2.06-.94-.94-2.06-.94 2.06-2.06.94z\"/><path d=\"M17.41 7.96l-1.37-1.37c-.4-.4-.92-.59-1.43-.59-.52 0-1.04.2-1.43.59L10.3 9.45l-7.72 7.72c-.78.78-.78 2.05 0 2.83L4 21.41c.39.39.9.59 1.41.59.51 0 1.02-.2 1.41-.59l7.78-7.78 2.81-2.81c.8-.78.8-2.07 0-2.86zM5.41 20L4 18.59l7.72-7.72 1.47 1.35L5.41 20z\"/>\n",
              "  </svg>\n",
              "      </button>\n",
              "      \n",
              "  <style>\n",
              "    .colab-df-container {\n",
              "      display:flex;\n",
              "      flex-wrap:wrap;\n",
              "      gap: 12px;\n",
              "    }\n",
              "\n",
              "    .colab-df-convert {\n",
              "      background-color: #E8F0FE;\n",
              "      border: none;\n",
              "      border-radius: 50%;\n",
              "      cursor: pointer;\n",
              "      display: none;\n",
              "      fill: #1967D2;\n",
              "      height: 32px;\n",
              "      padding: 0 0 0 0;\n",
              "      width: 32px;\n",
              "    }\n",
              "\n",
              "    .colab-df-convert:hover {\n",
              "      background-color: #E2EBFA;\n",
              "      box-shadow: 0px 1px 2px rgba(60, 64, 67, 0.3), 0px 1px 3px 1px rgba(60, 64, 67, 0.15);\n",
              "      fill: #174EA6;\n",
              "    }\n",
              "\n",
              "    [theme=dark] .colab-df-convert {\n",
              "      background-color: #3B4455;\n",
              "      fill: #D2E3FC;\n",
              "    }\n",
              "\n",
              "    [theme=dark] .colab-df-convert:hover {\n",
              "      background-color: #434B5C;\n",
              "      box-shadow: 0px 1px 3px 1px rgba(0, 0, 0, 0.15);\n",
              "      filter: drop-shadow(0px 1px 2px rgba(0, 0, 0, 0.3));\n",
              "      fill: #FFFFFF;\n",
              "    }\n",
              "  </style>\n",
              "\n",
              "      <script>\n",
              "        const buttonEl =\n",
              "          document.querySelector('#df-26160488-3560-4d2d-bc88-0bb9350d326c button.colab-df-convert');\n",
              "        buttonEl.style.display =\n",
              "          google.colab.kernel.accessAllowed ? 'block' : 'none';\n",
              "\n",
              "        async function convertToInteractive(key) {\n",
              "          const element = document.querySelector('#df-26160488-3560-4d2d-bc88-0bb9350d326c');\n",
              "          const dataTable =\n",
              "            await google.colab.kernel.invokeFunction('convertToInteractive',\n",
              "                                                     [key], {});\n",
              "          if (!dataTable) return;\n",
              "\n",
              "          const docLinkHtml = 'Like what you see? Visit the ' +\n",
              "            '<a target=\"_blank\" href=https://colab.research.google.com/notebooks/data_table.ipynb>data table notebook</a>'\n",
              "            + ' to learn more about interactive tables.';\n",
              "          element.innerHTML = '';\n",
              "          dataTable['output_type'] = 'display_data';\n",
              "          await google.colab.output.renderOutput(dataTable, element);\n",
              "          const docLink = document.createElement('div');\n",
              "          docLink.innerHTML = docLinkHtml;\n",
              "          element.appendChild(docLink);\n",
              "        }\n",
              "      </script>\n",
              "    </div>\n",
              "  </div>\n",
              "  "
            ]
          },
          "metadata": {},
          "execution_count": 11
        }
      ]
    },
    {
      "cell_type": "code",
      "source": [
        "# shape of the new restructured data\n",
        "\n",
        "food.shape"
      ],
      "metadata": {
        "id": "RsVRmz1LSATF",
        "outputId": "c50851c1-5eaa-4f52-b0df-6d7ba93d5e87",
        "colab": {
          "base_uri": "https://localhost:8080/"
        }
      },
      "execution_count": 12,
      "outputs": [
        {
          "output_type": "execute_result",
          "data": {
            "text/plain": [
              "(2021, 30)"
            ]
          },
          "metadata": {},
          "execution_count": 12
        }
      ]
    },
    {
      "cell_type": "markdown",
      "source": [
        "**Exploratory Data Analysis**"
      ],
      "metadata": {
        "id": "nvt340wIiVsD"
      }
    },
    {
      "cell_type": "code",
      "source": [
        "# education level counts\n",
        "\n",
        "food.education_level.value_counts()"
      ],
      "metadata": {
        "colab": {
          "base_uri": "https://localhost:8080/"
        },
        "id": "WAb8VJuAhHWz",
        "outputId": "3b53ec1e-54d7-4147-db62-d386290f27ec"
      },
      "execution_count": 13,
      "outputs": [
        {
          "output_type": "execute_result",
          "data": {
            "text/plain": [
              "Graduation    1015\n",
              "PhD            439\n",
              "Master         335\n",
              "2n Cycle       183\n",
              "Basic           49\n",
              "Name: education_level, dtype: int64"
            ]
          },
          "metadata": {},
          "execution_count": 13
        }
      ]
    },
    {
      "cell_type": "markdown",
      "source": [
        "In the given dataset, people are mainly graduated followed by PHD and Master degree."
      ],
      "metadata": {
        "id": "ZrCjfmZlilPb"
      }
    },
    {
      "cell_type": "code",
      "source": [
        "food.marital_status.value_counts()"
      ],
      "metadata": {
        "id": "6wLfcsxKiuds",
        "colab": {
          "base_uri": "https://localhost:8080/"
        },
        "outputId": "699b590d-2802-405b-f724-207b641c5ed9"
      },
      "execution_count": 14,
      "outputs": [
        {
          "output_type": "execute_result",
          "data": {
            "text/plain": [
              "Married     785\n",
              "Together    509\n",
              "Single      443\n",
              "Divorced    214\n",
              "Widow        70\n",
              "Name: marital_status, dtype: int64"
            ]
          },
          "metadata": {},
          "execution_count": 14
        }
      ]
    },
    {
      "cell_type": "markdown",
      "source": [
        "Most of the people are 'Married' followed by people who are 'Together' and 'Single'. There are very less people who are either 'Divorced' and 'Widow' in this dataset."
      ],
      "metadata": {
        "id": "VLN0yh5orsrF"
      }
    },
    {
      "cell_type": "code",
      "source": [
        "food['Income'].describe().round(2)"
      ],
      "metadata": {
        "colab": {
          "base_uri": "https://localhost:8080/"
        },
        "id": "yF4MUEjtr-f9",
        "outputId": "3876e5a9-1b54-4c92-fa41-9c730840aae1"
      },
      "execution_count": 15,
      "outputs": [
        {
          "output_type": "execute_result",
          "data": {
            "text/plain": [
              "count      2021.00\n",
              "mean      51687.26\n",
              "std       20713.05\n",
              "min        1730.00\n",
              "25%       35416.00\n",
              "50%       51412.00\n",
              "75%       68274.00\n",
              "max      113734.00\n",
              "Name: Income, dtype: float64"
            ]
          },
          "metadata": {},
          "execution_count": 15
        }
      ]
    },
    {
      "cell_type": "markdown",
      "source": [
        "From the above descriptive analysis, we find:\n",
        "\n",
        "- mean income: 51687.26\n",
        "\n",
        "- The 75th percentile (Q3) is 68274.00, which means that 75% of the data points are below this value, and 25% are above it."
      ],
      "metadata": {
        "id": "sOxkiH6EtPAM"
      }
    },
    {
      "cell_type": "code",
      "source": [
        "# plot income and kids data\n",
        "\n",
        "sns.boxplot(y=food[\"Income\"], x=food[\"kids\"])\n",
        "plt.title(\"Boxplot of kids and income data\", size=10)\n",
        "plt.show()"
      ],
      "metadata": {
        "colab": {
          "base_uri": "https://localhost:8080/",
          "height": 293
        },
        "id": "rpyMkpWAuHzd",
        "outputId": "4f94eb74-276b-470a-d366-fa83399d15ee"
      },
      "execution_count": 16,
      "outputs": [
        {
          "output_type": "display_data",
          "data": {
            "text/plain": [
              "<Figure size 432x288 with 1 Axes>"
            ],
            "image/png": "[encoded data removed]"
          },
          "metadata": {
            "needs_background": "light"
          }
        }
      ]
    },
    {
      "cell_type": "markdown",
      "source": [
        "People having no kid tend to have higher salaries than those having kids."
      ],
      "metadata": {
        "id": "J1fz-kyfvQd2"
      }
    },
    {
      "cell_type": "code",
      "source": [
        "sns.boxplot(y=food[\"Income\"], x=food[\"marital_status\"])\n",
        "plt.title(\"Boxplot of marital status and income data\", size=10)\n",
        "plt.show()"
      ],
      "metadata": {
        "colab": {
          "base_uri": "https://localhost:8080/",
          "height": 294
        },
        "id": "JNW92oIKvW2V",
        "outputId": "174cb349-a811-4c2a-e682-a15895f4c58c"
      },
      "execution_count": 17,
      "outputs": [
        {
          "output_type": "display_data",
          "data": {
            "text/plain": [
              "<Figure size 432x288 with 1 Axes>"
            ],
            "image/png": "[encoded data removed]"
          },
          "metadata": {
            "needs_background": "light"
          }
        }
      ]
    },
    {
      "cell_type": "markdown",
      "source": [
        "There's not much variation in income by marital status."
      ],
      "metadata": {
        "id": "sigDTXWAwUaO"
      }
    },
    {
      "cell_type": "code",
      "source": [
        "food.NumDealsPurchases.mean().round(), food.NumWebPurchases.mean().round()"
      ],
      "metadata": {
        "colab": {
          "base_uri": "https://localhost:8080/"
        },
        "id": "WSg2dWe6wdSd",
        "outputId": "f595136b-bc11-4a32-8768-561ebcaa7bf6"
      },
      "execution_count": 18,
      "outputs": [
        {
          "output_type": "execute_result",
          "data": {
            "text/plain": [
              "(2.0, 4.0)"
            ]
          },
          "metadata": {},
          "execution_count": 18
        }
      ]
    },
    {
      "cell_type": "code",
      "source": [
        "# plot heatmap to view correlation\n",
        "\n",
        "data=food[[\"Income\",\"kids\",\"NumDealsPurchases\",\"NumWebPurchases\",\"NumCatalogPurchases\",\"NumStorePurchases\", \"MntWines\", \"MntGoldProds\"]]\n",
        "sns.heatmap(data.corr(), annot=True)"
      ],
      "metadata": {
        "colab": {
          "base_uri": "https://localhost:8080/",
          "height": 389
        },
        "id": "EHG1xGzLzsEl",
        "outputId": "247994b9-6d16-4f1d-be06-42a6d56ff5b7"
      },
      "execution_count": 19,
      "outputs": [
        {
          "output_type": "execute_result",
          "data": {
            "text/plain": [
              "<Axes: >"
            ]
          },
          "metadata": {},
          "execution_count": 19
        },
        {
          "output_type": "display_data",
          "data": {
            "text/plain": [
              "<Figure size 432x288 with 2 Axes>"
            ],
            "image/png": "[encoded data removed]"
          },
          "metadata": {
            "needs_background": "light"
          }
        }
      ]
    },
    {
      "cell_type": "markdown",
      "source": [
        "We find the following:\n",
        "\n",
        "- Income is strongly related with Number of catalog and store purchases.\n",
        "- NumDealsPurchases(number of purchases made with discounts) and kids(number of kids at home) is correlated."
      ],
      "metadata": {
        "id": "NvLdrNGf0CPV"
      }
    },
    {
      "cell_type": "markdown",
      "source": [
        "**More EDA**\n",
        "\n",
        "- Start by identifying the most profitable customers: Look at the \n",
        "historical data and identify the customers who have spent the most on the products. This will give an idea of the type of customers that are more likely to bring in revenue."
      ],
      "metadata": {
        "id": "1ZzkW7asBgol"
      }
    },
    {
      "cell_type": "code",
      "source": [
        "# create new calculated column\n",
        "food['Total_Spending'] = food[['MntWines', 'MntFruits', 'MntMeatProducts', 'MntFishProducts', 'MntSweetProducts', 'MntGoldProds']].sum(axis=1)\n",
        "\n",
        "# Sort the customers by the amount they have spent\n",
        "food.sort_values(by='Income', ascending=False, inplace=True)\n",
        "\n",
        "# Select the top 10% of customers by income\n",
        "top_customers = food.head(int(len(food) * 0.1))\n",
        "\n",
        "# create DataFrame from list of top customers\n",
        "df_top_customers = pd.DataFrame(top_customers, columns=[\"Total_Spending\", \"Income\", \"NumDealsPurchases\"])\n",
        "\n",
        "# display top 10 customers\n",
        "pprint(df_top_customers.head(10))\n",
        "\n",
        "\n"
      ],
      "metadata": {
        "colab": {
          "base_uri": "https://localhost:8080/"
        },
        "id": "pKiuB7Q7_poP",
        "outputId": "329c2575-af2d-43a6-803b-62fb0d7d71cc"
      },
      "execution_count": 31,
      "outputs": [
        {
          "output_type": "stream",
          "name": "stdout",
          "text": [
            "      Total_Spending    Income  NumDealsPurchases\n",
            "1872             277  113734.0                  0\n",
            "628             1724  105471.0                  0\n",
            "238             1112  102692.0                  1\n",
            "190             1240  102160.0                  0\n",
            "115             1135  101970.0                  0\n",
            "632             2008   98777.0                  0\n",
            "1986            1941   96876.0                  1\n",
            "1932            1544   96843.0                  1\n",
            "1969             809   96547.0                  0\n",
            "894             1990   95529.0                  1\n"
          ]
        }
      ]
    },
    {
      "cell_type": "markdown",
      "source": [
        "- Segment the customers: Use the demographic and behavior data available to group the customers into different segments. We use clustering algorithms to group similar customers together."
      ],
      "metadata": {
        "id": "PI-yi1cGFiLl"
      }
    },
    {
      "cell_type": "code",
      "source": [
        "# Use k-means clustering to group similar customers together\n",
        "from sklearn.cluster import KMeans\n",
        "\n",
        "# Select the columns to use for clustering\n",
        "cols = ['MntWines', 'MntFruits', 'MntMeatProducts', 'MntFishProducts', 'MntSweetProducts', 'MntGoldProds', 'NumDealsPurchases', 'NumWebPurchases', 'NumCatalogPurchases', 'NumStorePurchases', 'NumWebVisitsMonth', 'Age']\n",
        "\n",
        "# Fit the k-means model to the data\n",
        "kmeans = KMeans(n_clusters=4, random_state=0).fit(food[cols])\n",
        "\n",
        "# Add the cluster labels to the dataframe\n",
        "food['Cluster'] = kmeans.labels_\n",
        "\n",
        "# Display the clusters\n",
        "print(food.groupby('Cluster').mean())\n"
      ],
      "metadata": {
        "colab": {
          "base_uri": "https://localhost:8080/"
        },
        "id": "E7Zi9yJYH3m-",
        "outputId": "023efb86-d280-455b-dde3-451685acc9d2"
      },
      "execution_count": 47,
      "outputs": [
        {
          "output_type": "stream",
          "name": "stderr",
          "text": [
            "/usr/local/lib/python3.9/dist-packages/sklearn/cluster/_kmeans.py:870: FutureWarning: The default value of `n_init` will change from 10 to 'auto' in 1.4. Set the value of `n_init` explicitly to suppress the warning\n",
            "  warnings.warn(\n"
          ]
        },
        {
          "output_type": "stream",
          "name": "stdout",
          "text": [
            "               Income    Recency    MntWines  MntFruits  MntMeatProducts  \\\n",
            "Cluster                                                                    \n",
            "0        77212.004926  50.679803  534.748768  70.246305       656.886700   \n",
            "1        36925.122921  48.929760   57.584104   8.515712        34.168207   \n",
            "2        72855.074380  48.946281  991.342975  44.227273       322.305785   \n",
            "3        63161.947368  48.002024  422.380567  38.676113       176.702429   \n",
            "\n",
            "         MntFishProducts  MntSweetProducts  MntGoldProds  NumDealsPurchases  \\\n",
            "Cluster                                                                       \n",
            "0             105.743842         72.482759     73.581281           1.236453   \n",
            "1              11.727357          8.292052     20.836414           2.239372   \n",
            "2              61.500000         44.041322     70.752066           2.268595   \n",
            "3              54.572874         42.036437     69.153846           3.008097   \n",
            "\n",
            "         NumWebPurchases  ...  Z_CostContact  Z_Revenue  Response        Age  \\\n",
            "Cluster                   ...                                                  \n",
            "0               4.862069  ...            3.0       11.0  0.320197  50.980296   \n",
            "1               2.546211  ...            3.0       11.0  0.101664  49.225508   \n",
            "2               6.070248  ...            3.0       11.0  0.342975  54.219008   \n",
            "3               6.287449  ...            3.0       11.0  0.107287  53.797571   \n",
            "\n",
            "         Customer_Days     MntTotal  MntRegularProds  AcceptedCmpOverall  \\\n",
            "Cluster                                                                    \n",
            "0          2536.768473  1440.108374      1366.527094            0.561576   \n",
            "1          2486.145102   120.287431        99.451017            0.094270   \n",
            "2          2585.458678  1463.417355      1392.665289            1.045455   \n",
            "3          2520.882591   734.368421       665.214575            0.287449   \n",
            "\n",
            "             kids  Total_Spending  \n",
            "Cluster                            \n",
            "0        0.108374     1513.689655  \n",
            "1        1.223660      141.123845  \n",
            "2        0.557851     1534.169421  \n",
            "3        0.900810      803.522267  \n",
            "\n",
            "[4 rows x 29 columns]\n"
          ]
        }
      ]
    },
    {
      "cell_type": "markdown",
      "source": [
        "- Analyze the behavior of each segment: Once the segments are identified, look at the behavior of each segment. For example, look at the products they have purchased, how frequently they make purchases, the channels they prefer to use for purchasing, and the promotions they respond to. This will help you understand the needs and preferences of each segment."
      ],
      "metadata": {
        "id": "gxbbLt9fHYGN"
      }
    },
    {
      "cell_type": "code",
      "source": [
        "# Display the products and services purchased by each segment\n",
        "segments = food.groupby('Cluster').mean()\n",
        "for i in range(len(segments)):\n",
        "    print(f'Segment {i+1}:')\n",
        "    print(segments.iloc[i][cols])\n"
      ],
      "metadata": {
        "colab": {
          "base_uri": "https://localhost:8080/"
        },
        "id": "4c6rJ0tCHXt5",
        "outputId": "6c25bd2b-babd-4729-b349-2905dad2a7b1"
      },
      "execution_count": 48,
      "outputs": [
        {
          "output_type": "stream",
          "name": "stdout",
          "text": [
            "Segment 1:\n",
            "MntWines               534.748768\n",
            "MntFruits               70.246305\n",
            "MntMeatProducts        656.886700\n",
            "MntFishProducts        105.743842\n",
            "MntSweetProducts        72.482759\n",
            "MntGoldProds            73.581281\n",
            "NumDealsPurchases        1.236453\n",
            "NumWebPurchases          4.862069\n",
            "NumCatalogPurchases      6.300493\n",
            "NumStorePurchases        8.073892\n",
            "NumWebVisitsMonth        2.512315\n",
            "Age                     50.980296\n",
            "Name: 0, dtype: float64\n",
            "Segment 2:\n",
            "MntWines               57.584104\n",
            "MntFruits               8.515712\n",
            "MntMeatProducts        34.168207\n",
            "MntFishProducts        11.727357\n",
            "MntSweetProducts        8.292052\n",
            "MntGoldProds           20.836414\n",
            "NumDealsPurchases       2.239372\n",
            "NumWebPurchases         2.546211\n",
            "NumCatalogPurchases     0.756007\n",
            "NumStorePurchases       3.635860\n",
            "NumWebVisitsMonth       6.297597\n",
            "Age                    49.225508\n",
            "Name: 1, dtype: float64\n",
            "Segment 3:\n",
            "MntWines               991.342975\n",
            "MntFruits               44.227273\n",
            "MntMeatProducts        322.305785\n",
            "MntFishProducts         61.500000\n",
            "MntSweetProducts        44.041322\n",
            "MntGoldProds            70.752066\n",
            "NumDealsPurchases        2.268595\n",
            "NumWebPurchases          6.070248\n",
            "NumCatalogPurchases      5.425620\n",
            "NumStorePurchases        8.652893\n",
            "NumWebVisitsMonth        4.694215\n",
            "Age                     54.219008\n",
            "Name: 2, dtype: float64\n",
            "Segment 4:\n",
            "MntWines               422.380567\n",
            "MntFruits               38.676113\n",
            "MntMeatProducts        176.702429\n",
            "MntFishProducts         54.572874\n",
            "MntSweetProducts        42.036437\n",
            "MntGoldProds            69.153846\n",
            "NumDealsPurchases        3.008097\n",
            "NumWebPurchases          6.287449\n",
            "NumCatalogPurchases      3.917004\n",
            "NumStorePurchases        8.238866\n",
            "NumWebVisitsMonth        4.722672\n",
            "Age                     53.797571\n",
            "Name: 3, dtype: float64\n"
          ]
        }
      ]
    },
    {
      "cell_type": "markdown",
      "source": [
        "- Develop targeted marketing strategies: Based on the insights gathered from the analysis, develop marketing strategies that target each segment specifically. For example, you could develop personalized email campaigns, targeted social media advertising, or tailored promotions for each segment."
      ],
      "metadata": {
        "id": "ofFKcvXlKmem"
      }
    },
    {
      "cell_type": "code",
      "source": [
        "# Develop marketing strategies that target each segment specifically\n",
        "# for segment 3, we might develop a personalized email campaign with promotions on wine"
      ],
      "metadata": {
        "id": "LNQ4y1eaKmtG"
      },
      "execution_count": 56,
      "outputs": []
    },
    {
      "cell_type": "markdown",
      "source": [
        "Note:\n",
        "\n",
        "- Dataset: [marketing analytics dataset](https://www.kaggle.com/datasets/jackdaoud/marketing-data)\n",
        "- Notebook: Google Colab"
      ],
      "metadata": {
        "id": "zWbJUkKa2JeO"
      }
    },
    {
      "cell_type": "markdown",
      "source": [
        "**Thank you for going through my analysis.**"
      ],
      "metadata": {
        "id": "MSL3ajd8188W"
      }
    }
  ]
}